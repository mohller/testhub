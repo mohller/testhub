{
 "metadata": {
  "celltoolbar": "Slideshow",
  "name": "",
  "signature": "sha256:bd34c29194a7b94763f0c3aeaa5602066dcb6875c911bf95e80662bcdbc90b3c"
 },
 "nbformat": 3,
 "nbformat_minor": 0,
 "worksheets": [
  {
   "cells": [
    {
     "cell_type": "markdown",
     "metadata": {
      "slideshow": {
       "slide_type": "slide"
      }
     },
     "source": [
      "#Como hacer un modelo que genere comportamiento cualitativamente diferente?\n",
      "\n",
      "###Un modelo de cuerpos interactuantes cuyo coportamiento escale de modo no linear. \n",
      "La Teoria Cinetica no puede generar las diferentes fases macroscopicas ni el hecho de que coexistan con frontera bien definida.  "
     ]
    },
    {
     "cell_type": "markdown",
     "metadata": {
      "slideshow": {
       "slide_type": "slide"
      }
     },
     "source": [
      "#Como definir la inteligencia?\n",
      "\n",
      "###Todos los animales poseen cierto grado de inteligencia\n",
      "\n",
      "Un animal en cierto grado de adaptacion, posee un soporte de inteligencia con las capacidadades de solucion de tareas necesarias para la sobrevivencia del organismo. "
     ]
    },
    {
     "cell_type": "code",
     "collapsed": false,
     "input": [
      "import plotly.tools as plytls\n",
      "\n",
      "plytls.embed(\"https://plot.ly/~streaming-demos/4\")\n",
      "\n"
     ],
     "language": "python",
     "metadata": {
      "slideshow": {
       "slide_type": "slide"
      }
     },
     "outputs": [
      {
       "html": [
        "<iframe id=\"igraph\" scrolling=\"no\" style=\"border:none;\"seamless=\"seamless\" src=\"https://plot.ly/~streaming-demos/4.embed\" height=\"525\" width=\"100%\"></iframe>"
       ],
       "metadata": {},
       "output_type": "pyout",
       "prompt_number": 3,
       "text": [
        "<plotly.tools.PlotlyDisplay at 0x7fb291313490>"
       ]
      }
     ],
     "prompt_number": 3
    }
   ],
   "metadata": {}
  }
 ]
}