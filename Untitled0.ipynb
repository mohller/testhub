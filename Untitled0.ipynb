{
 "metadata": {
  "celltoolbar": "Slideshow",
  "name": "",
  "signature": "sha256:194f83cbc420813d1918096404fc2a8fd7392b31f26ed12d9f2404bffa88271b"
 },
 "nbformat": 3,
 "nbformat_minor": 0,
 "worksheets": [
  {
   "cells": [
    {
     "cell_type": "markdown",
     "metadata": {
      "slideshow": {
       "slide_type": "slide"
      }
     },
     "source": [
      "#Como hacer un modelo que genere comportamiento cualitativamente diferente?\n",
      "\n",
      "###Un modelo de cuerpos interactuantes cuyo coportamiento escale de modo no linear. \n",
      "La Teoria Cinetica no puede generar las diferentes fases macroscopicas ni el hecho de que coexistan con frontera bien definida.  "
     ]
    },
    {
     "cell_type": "markdown",
     "metadata": {
      "slideshow": {
       "slide_type": "slide"
      }
     },
     "source": [
      "#Como definir la inteligencia?\n",
      "\n",
      "###Todos los animales poseen cierto grado de inteligencia\n",
      "\n",
      "Un animal en cierto grado de adaptacion, posee un soporte de inteligencia con las capacidadades de solucion de tareas necesarias para la sobrevivencia del organismo. "
     ]
    }
   ],
   "metadata": {}
  }
 ]
}