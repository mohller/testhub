{
 "metadata": {
  "celltoolbar": "Slideshow",
  "name": "",
  "signature": "sha256:3dfde909ad6297d735a55b4ecef0ef07c186cf36a2f9e009aee6a83b42f0d56e"
 },
 "nbformat": 3,
 "nbformat_minor": 0,
 "worksheets": [
  {
   "cells": [
    {
     "cell_type": "markdown",
     "metadata": {
      "slideshow": {
       "slide_type": "slide"
      }
     },
     "source": [
      "#Como hacer un modelo que genere comportamiento cualitativamente diferente?\n",
      "\n",
      "###Un modelo de cuerpos interactuantes cuyo coportamiento escale de modo no linear. \n",
      "La Teoria Cinetica no puede generar las diferentes fases macroscopicas ni el hecho de que coexistan con frontera bien definida.  "
     ]
    },
    {
     "cell_type": "markdown",
     "metadata": {
      "slideshow": {
       "slide_type": "slide"
      }
     },
     "source": [
      "#Como definir la inteligencia?\n",
      "\n",
      "###Todos los animales poseen cierto grado de inteligencia\n",
      "\n",
      "Un animal en cierto grado de adaptacion, posee un soporte de inteligencia con las capacidadades de solucion de tareas necesarias para la sobrevivencia del organismo. "
     ]
    },
    {
     "cell_type": "code",
     "collapsed": false,
     "input": [
      "import plotly.tools as plytls\n",
      "\n",
      "plytls.embed(\"https://plot.ly/~mohller/12/x-rays-measured-spectra/?share_key=H86TfmFcdBHNbojAaKVajm\")\n",
      "\n"
     ],
     "language": "python",
     "metadata": {
      "slideshow": {
       "slide_type": "slide"
      }
     },
     "outputs": [
      {
       "html": [
        "<iframe id=\"igraph\" scrolling=\"no\" style=\"border:none;\"seamless=\"seamless\" src=\"https://plot.ly/~mohller/12.embed?share_key=H86TfmFcdBHNbojAaKVajm\" height=\"525\" width=\"100%\"></iframe>"
       ],
       "metadata": {},
       "output_type": "pyout",
       "prompt_number": 4,
       "text": [
        "<plotly.tools.PlotlyDisplay at 0x7fb2913137d0>"
       ]
      }
     ],
     "prompt_number": 4
    }
   ],
   "metadata": {}
  }
 ]
}